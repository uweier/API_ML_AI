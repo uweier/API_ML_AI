{
 "cells": [
  {
   "cell_type": "markdown",
   "metadata": {},
   "source": [
    "## 驾驶行为分析API之代码输入输出调试\n",
    "\n",
    "[驾驶行为分析API文档](https://ai.baidu.com/ai-doc/BODY/Nk3cpywct)"
   ]
  },
  {
   "cell_type": "code",
   "execution_count": 37,
   "metadata": {},
   "outputs": [
    {
     "name": "stdout",
     "output_type": "stream",
     "text": [
      "{'refresh_token': '25.5c4a5e54557379c25ee617af811d6619.315360000.1892522543.282335-18083464', 'expires_in': 2592000, 'session_key': '9mzdDAYsKAQSrrtDok9b9rVYAqX+aeaPGAVQoG2OYHRcx3ozBaEbKA6zqw3zdBSj8Wsc34nxtebSenePUKf0U3rfHgYChA==', 'access_token': '24.732be53115db5c3c44066b1edb01e456.2592000.1579754543.282335-18083464', 'scope': 'public brain_all_scope brain_body_analysis brain_body_attr brain_body_number brain_driver_behavior brain_body_seg brain_gesture_detect brain_body_tracking brain_hand_analysis wise_adapt lebo_resource_base lightservice_public hetu_basic lightcms_map_poi kaidian_kaidian ApsMisTest_Test权限 vis-classify_flower lpq_开放 cop_helloScope ApsMis_fangdi_permission smartapp_snsapi_base iop_autocar oauth_tp_app smartapp_smart_game_openapi oauth_sessionkey smartapp_swanid_verify smartapp_opensource_openapi smartapp_opensource_recapi fake_face_detect_开放Scope vis-ocr_虚拟人物助理 idl-video_虚拟人物助理', 'session_secret': 'b6a7702564cb26eff9ff8abbca233500'}\n"
     ]
    }
   ],
   "source": [
    "# 获取access_token\n",
    "\n",
    "# encoding:utf-8\n",
    "import requests \n",
    "\n",
    "# client_id 为官网获取的AK， client_secret 为官网获取的SK\n",
    "host = 'https://aip.baidubce.com/oauth/2.0/token?grant_type=client_credentials&client_id=NkKpaNkEeS2Zh6GbcdwYpcpj&client_secret=FslfBCjm4KID6NDsVSLqWlwM16fsx3zE'\n",
    "response = requests.get(host)\n",
    "if response:\n",
    "    print(response.json())"
   ]
  },
  {
   "cell_type": "markdown",
   "metadata": {},
   "source": [
    "### 测试图片一"
   ]
  },
  {
   "cell_type": "markdown",
   "metadata": {},
   "source": [
    "![driver_test3.jpg](http://img2018.cnblogs.com/news/34358/201907/34358-20190727103933209-605120633.jpg)"
   ]
  },
  {
   "cell_type": "code",
   "execution_count": 38,
   "metadata": {},
   "outputs": [
    {
     "name": "stdout",
     "output_type": "stream",
     "text": [
      "{'log_id': 9021081002372380408,\n",
      " 'person_info': [{'attributes': {'both_hands_leaving_wheel': {'score': 1.315307144977851e-05,\n",
      "                                                              'threshold': 0.4909999966621399},\n",
      "                                 'cellphone': {'score': 0.001096911146305501,\n",
      "                                               'threshold': 0.6380000114440918},\n",
      "                                 'not_buckling_up': {'score': 0.004060535691678524,\n",
      "                                                     'threshold': 0.4490000009536743},\n",
      "                                 'not_facing_front': {'score': 0.008284381590783596,\n",
      "                                                      'threshold': 0.4580000042915344},\n",
      "                                 'smoke': {'score': 0.0001843384379753843,\n",
      "                                           'threshold': 0.4370000064373016}},\n",
      "                  'location': {'height': 478,\n",
      "                               'left': 175,\n",
      "                               'top': 27,\n",
      "                               'width': 704}}],\n",
      " 'person_num': 1}\n"
     ]
    }
   ],
   "source": [
    "# encoding:utf-8\n",
    "\n",
    "import requests\n",
    "import base64\n",
    "from pprint import pprint\n",
    "\n",
    "'''\n",
    "驾驶行为分析\n",
    "'''\n",
    "\n",
    "request_url = \"https://aip.baidubce.com/rest/2.0/image-classify/v1/driver_behavior\"\n",
    "# 二进制方式打开图片文件\n",
    "f = open('driver_test3.jpg', 'rb')\n",
    "img = base64.b64encode(f.read())\n",
    "\n",
    "params = {\"image\":img}\n",
    "access_token = '24.c041ae58223f0995e114baedbbe9b33a.2592000.1579751847.282335-18083464'\n",
    "request_url = request_url + \"?access_token=\" + access_token\n",
    "headers = {'content-type': 'application/x-www-form-urlencoded'}\n",
    "response = requests.post(request_url, data=params, headers=headers)\n",
    "if response:\n",
    "    pprint(response.json())"
   ]
  },
  {
   "cell_type": "markdown",
   "metadata": {},
   "source": [
    "### 测试图片二"
   ]
  },
  {
   "cell_type": "markdown",
   "metadata": {},
   "source": [
    "![driver_test.jpg](http://thumbs.dreamstime.com/b/%E9%A9%BE%E9%A9%B6%E5%9F%8E%E5%B8%82-%E7%9A%84%E5%85%AC%E5%85%B1%E6%B1%BD%E8%BD%A6%E7%9A%84%E6%84%89%E5%BF%AB%E7%9A%84%E5%8F%B8%E6%9C%BA-68482349.jpg)"
   ]
  },
  {
   "cell_type": "code",
   "execution_count": 39,
   "metadata": {},
   "outputs": [
    {
     "name": "stdout",
     "output_type": "stream",
     "text": [
      "{'log_id': 4774255850180060952,\n",
      " 'person_info': [{'attributes': {'both_hands_leaving_wheel': {'score': 0.001279575517401099,\n",
      "                                                              'threshold': 0.4909999966621399},\n",
      "                                 'cellphone': {'score': 0.0009141949121840298,\n",
      "                                               'threshold': 0.6380000114440918},\n",
      "                                 'not_buckling_up': {'score': 0.00154066679533571,\n",
      "                                                     'threshold': 0.4490000009536743},\n",
      "                                 'not_facing_front': {'score': 0.9508475065231323,\n",
      "                                                      'threshold': 0.4580000042915344},\n",
      "                                 'smoke': {'score': 0.0008082856074906886,\n",
      "                                           'threshold': 0.4370000064373016}},\n",
      "                  'location': {'height': 404,\n",
      "                               'left': 180,\n",
      "                               'top': 123,\n",
      "                               'width': 408}}],\n",
      " 'person_num': 1}\n"
     ]
    }
   ],
   "source": [
    "# encoding:utf-8\n",
    "\n",
    "import requests\n",
    "import base64\n",
    "from pprint import pprint\n",
    "\n",
    "'''\n",
    "驾驶行为分析\n",
    "'''\n",
    "\n",
    "request_url = \"https://aip.baidubce.com/rest/2.0/image-classify/v1/driver_behavior\"\n",
    "# 二进制方式打开图片文件\n",
    "f = open('driver_test2.jpg', 'rb')\n",
    "img = base64.b64encode(f.read())\n",
    "\n",
    "params = {\"image\":img}\n",
    "access_token = '24.c041ae58223f0995e114baedbbe9b33a.2592000.1579751847.282335-18083464'\n",
    "request_url = request_url + \"?access_token=\" + access_token\n",
    "headers = {'content-type': 'application/x-www-form-urlencoded'}\n",
    "response = requests.post(request_url, data=params, headers=headers)\n",
    "if response:\n",
    "    pprint(response.json())"
   ]
  },
  {
   "cell_type": "markdown",
   "metadata": {},
   "source": [
    "## 使用Python SDK也能实现输入输出\n",
    "[Python SDK快速入门](https://ai.baidu.com/ai-doc/BODY/Rk3cpyo93)\n",
    "\n",
    "[驾驶行为分析SDK文档](https://ai.baidu.com/ai-doc/BODY/Ak3cpymcf)"
   ]
  },
  {
   "cell_type": "code",
   "execution_count": 40,
   "metadata": {},
   "outputs": [],
   "source": [
    "from aip import AipBodyAnalysis\n",
    "\n",
    "\"\"\" 你的 APPID AK SK \"\"\"\n",
    "APP_ID = '18083464'\n",
    "API_KEY = 'NkKpaNkEeS2Zh6GbcdwYpcpj'\n",
    "SECRET_KEY = 'FslfBCjm4KID6NDsVSLqWlwM16fsx3zE'\n",
    "\n",
    "client = AipBodyAnalysis(APP_ID, API_KEY, SECRET_KEY)"
   ]
  },
  {
   "cell_type": "markdown",
   "metadata": {},
   "source": []
  },
  {
   "cell_type": "code",
   "execution_count": 41,
   "metadata": {},
   "outputs": [
    {
     "data": {
      "text/plain": [
       "{'person_num': 1,\n",
       " 'person_info': [{'attributes': {'both_hands_leaving_wheel': {'threshold': 0.4909999966621399,\n",
       "     'score': 1.315310873906128e-05}},\n",
       "   'location': {'width': 704, 'top': 27, 'height': 478, 'left': 175}}],\n",
       " 'log_id': 4042184604471313208}"
      ]
     },
     "execution_count": 41,
     "metadata": {},
     "output_type": "execute_result"
    }
   ],
   "source": [
    "\"\"\" 读取图片 \"\"\"\n",
    "def get_file_content(filePath):\n",
    "    with open(filePath, 'rb') as fp:\n",
    "        return fp.read()\n",
    "\n",
    "image = get_file_content('driver_test3.jpg')\n",
    "\n",
    "\"\"\" 调用驾驶行为分析 \"\"\"\n",
    "client.driverBehavior(image);\n",
    "\n",
    "\"\"\" 如果有可选参数 \"\"\"\n",
    "options = {}\n",
    "options[\"type\"] = \"both_hands_leaving_wheel\"\n",
    "\n",
    "\n",
    "\"\"\" 带参数调用驾驶行为分析 \"\"\"\n",
    "client.driverBehavior(image, options)"
   ]
  },
  {
   "cell_type": "code",
   "execution_count": 42,
   "metadata": {},
   "outputs": [
    {
     "data": {
      "text/plain": [
       "{'person_num': 1,\n",
       " 'person_info': [{'attributes': {'not_facing_front': {'threshold': 0.4580000042915344,\n",
       "     'score': 0.9508475065231323}},\n",
       "   'location': {'width': 408, 'top': 123, 'height': 404, 'left': 180}}],\n",
       " 'log_id': 1751411651404352952}"
      ]
     },
     "execution_count": 42,
     "metadata": {},
     "output_type": "execute_result"
    }
   ],
   "source": [
    "\"\"\" 读取图片 \"\"\"\n",
    "def get_file_content(filePath):\n",
    "    with open(filePath, 'rb') as fp:\n",
    "        return fp.read()\n",
    "\n",
    "image = get_file_content('driver_test2.jpg')\n",
    "\n",
    "\"\"\" 调用驾驶行为分析 \"\"\"\n",
    "client.driverBehavior(image);\n",
    "\n",
    "\"\"\" 如果有可选参数 \"\"\"\n",
    "options = {}\n",
    "options[\"type\"] = \"not_facing_front\"\n",
    "\n",
    "\"\"\" 带参数调用驾驶行为分析 \"\"\"\n",
    "client.driverBehavior(image, options)"
   ]
  },
  {
   "cell_type": "code",
   "execution_count": null,
   "metadata": {},
   "outputs": [],
   "source": []
  }
 ],
 "metadata": {
  "kernelspec": {
   "display_name": "Python 3",
   "language": "python",
   "name": "python3"
  },
  "language_info": {
   "codemirror_mode": {
    "name": "ipython",
    "version": 3
   },
   "file_extension": ".py",
   "mimetype": "text/x-python",
   "name": "python",
   "nbconvert_exporter": "python",
   "pygments_lexer": "ipython3",
   "version": "3.7.4"
  }
 },
 "nbformat": 4,
 "nbformat_minor": 2
}
